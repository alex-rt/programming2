{
 "cells": [
  {
   "cell_type": "code",
   "execution_count": 7,
   "metadata": {},
   "outputs": [],
   "source": [
    "import numpy as np\n",
    "\n"
   ]
  },
  {
   "cell_type": "code",
   "execution_count": 13,
   "metadata": {},
   "outputs": [
    {
     "data": {
      "text/plain": [
       "array([[ 0.,  1.,  4.],\n",
       "       [ 9., 16., 25.],\n",
       "       [36., 49., 64.]])"
      ]
     },
     "execution_count": 13,
     "metadata": {},
     "output_type": "execute_result"
    }
   ],
   "source": [
    "z=([[ 0.,  1.,  2.],\n",
    "               [ 3.,  4.,  5.],\n",
    "               [ 6.,  7.,  8.]])\n",
    "x=np.array(z)\n",
    "\n",
    "# `x ** 2` squares each entry in the array `x`\n",
    "x ** 2\n",
    "\n"
   ]
  },
  {
   "cell_type": "code",
   "execution_count": 14,
   "metadata": {},
   "outputs": [
    {
     "data": {
      "text/plain": [
       "array([[0.        , 1.        , 1.41421356],\n",
       "       [1.73205081, 2.        , 2.23606798],\n",
       "       [2.44948974, 2.64575131, 2.82842712]])"
      ]
     },
     "execution_count": 14,
     "metadata": {},
     "output_type": "execute_result"
    }
   ],
   "source": [
    "\n",
    "# `np.sqrt(x)` takes the square-root\n",
    "# of each entry in the array `x`\n",
    "np.sqrt(x)\n",
    "\n"
   ]
  },
  {
   "cell_type": "code",
   "execution_count": 15,
   "metadata": {},
   "outputs": [
    {
     "data": {
      "text/plain": [
       "array([0.5, 1.5, 2.5])"
      ]
     },
     "execution_count": 15,
     "metadata": {},
     "output_type": "execute_result"
    }
   ],
   "source": [
    "\n",
    "\n",
    "# Slices return arrays, thus you can operate\n",
    "# on these too. Add .5 to each entry in row-0\n",
    "# of `x`\n",
    ".5 + x[0, :]"
   ]
  },
  {
   "cell_type": "code",
   "execution_count": 16,
   "metadata": {},
   "outputs": [
    {
     "data": {
      "text/plain": [
       "49995000"
      ]
     },
     "execution_count": 16,
     "metadata": {},
     "output_type": "execute_result"
    }
   ],
   "source": [
    "np.sum(np.arange(10000))"
   ]
  },
  {
   "cell_type": "code",
   "execution_count": 17,
   "metadata": {},
   "outputs": [],
   "source": [
    "total = 0\n",
    "for i in np.arange(10000):\n",
    "    total= i + total"
   ]
  },
  {
   "cell_type": "code",
   "execution_count": 18,
   "metadata": {},
   "outputs": [
    {
     "data": {
      "text/plain": [
       "49995000"
      ]
     },
     "execution_count": 18,
     "metadata": {},
     "output_type": "execute_result"
    }
   ],
   "source": [
    "total"
   ]
  },
  {
   "cell_type": "code",
   "execution_count": 19,
   "metadata": {},
   "outputs": [],
   "source": [
    "from math import sin as sn\n",
    "import matplotlib.pyplot as plt\n",
    "import time"
   ]
  },
  {
   "cell_type": "code",
   "execution_count": 20,
   "metadata": {},
   "outputs": [
    {
     "data": {
      "image/png": "[encoded data removed]",
      "text/plain": [
       "<Figure size 432x288 with 1 Axes>"
      ]
     },
     "metadata": {
      "needs_background": "light"
     },
     "output_type": "display_data"
    },
    {
     "data": {
      "image/png": "[encoded data removed]",
      "text/plain": [
       "<Figure size 432x288 with 1 Axes>"
      ]
     },
     "metadata": {
      "needs_background": "light"
     },
     "output_type": "display_data"
    },
    {
     "name": "stdout",
     "output_type": "stream",
     "text": [
      "\n",
      "Time taken by the plain vanilla for-loop\n",
      "----------------------------------------------\n",
      "0.0 us\n",
      "\n",
      "Time taken by list comprehension and zip\n",
      "----------------------------------------\n",
      "843 µs ± 22.5 µs per loop (mean ± std. dev. of 7 runs, 1000 loops each)\n",
      "\n",
      "Time taken by map function\n",
      "----------------------------------------\n",
      "764 µs ± 36.2 µs per loop (mean ± std. dev. of 7 runs, 1000 loops each)\n",
      "\n",
      "Time taken by numpy.vectorize method\n",
      "----------------------------------------\n",
      "462 µs ± 30.6 µs per loop (mean ± std. dev. of 7 runs, 1000 loops each)\n"
     ]
    }
   ],
   "source": [
    "# Number of test points\n",
    "N_point  = 1000\n",
    "# Define a custom function with some if-else loops\n",
    "def myfunc(x,y):\n",
    "    if (x>0.5*y and y<0.3):\n",
    "        return (sn(x-y))\n",
    "    elif (x<0.5*y):\n",
    "        return 0\n",
    "    elif (x>0.2*y):\n",
    "        return (2*sn(x+2*y))\n",
    "    else:\n",
    "        return (sn(y+x))\n",
    "# List of stored elements, generated from a Normal distribution\n",
    "lst_x = np.random.randn(N_point)\n",
    "lst_y = np.random.randn(N_point)\n",
    "lst_result = []\n",
    "# Optional plots of the data\n",
    "plt.hist(lst_x,bins=20)\n",
    "plt.show()\n",
    "plt.hist(lst_y,bins=20)\n",
    "plt.show()\n",
    "# First, plain vanilla for-loop\n",
    "t1=time.time()\n",
    "for i in range(len(lst_x)):\n",
    "    x = lst_x[i]\n",
    "    y= lst_y[i]\n",
    "    if (x>0.5*y and y<0.3):\n",
    "        lst_result.append(sn(x-y))\n",
    "    elif (x<0.5*y):\n",
    "        lst_result.append(0)\n",
    "    elif (x>0.2*y):\n",
    "        lst_result.append(2*sn(x+2*y))\n",
    "    else:\n",
    "        lst_result.append(sn(y+x))\n",
    "t2=time.time()\n",
    "print(\"\\nTime taken by the plain vanilla for-loop\\n----------------------------------------------\\n{} us\".format(1000000*(t2-t1)))\n",
    "# List comprehension\n",
    "print(\"\\nTime taken by list comprehension and zip\\n\"+'-'*40)\n",
    "%timeit lst_result = [myfunc(x,y) for x,y in zip(lst_x,lst_y)]\n",
    "# Map() function\n",
    "print(\"\\nTime taken by map function\\n\"+'-'*40)\n",
    "%timeit list(map(myfunc,lst_x,lst_y))\n",
    "# Numpy.vectorize method\n",
    "print(\"\\nTime taken by numpy.vectorize method\\n\"+'-'*40)\n",
    "vectfunc = np.vectorize(myfunc,otypes=[np.float],cache=False)\n",
    "%timeit list(vectfunc(lst_x,lst_y))"
   ]
  },
  {
   "cell_type": "code",
   "execution_count": null,
   "metadata": {},
   "outputs": [],
   "source": []
  }
 ],
 "metadata": {
  "kernelspec": {
   "display_name": "Python 3",
   "language": "python",
   "name": "python3"
  },
  "language_info": {
   "codemirror_mode": {
    "name": "ipython",
    "version": 3
   },
   "file_extension": ".py",
   "mimetype": "text/x-python",
   "name": "python",
   "nbconvert_exporter": "python",
   "pygments_lexer": "ipython3",
   "version": "3.7.5"
  }
 },
 "nbformat": 4,
 "nbformat_minor": 2
}
